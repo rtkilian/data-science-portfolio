{
 "cells": [
  {
   "cell_type": "markdown",
   "metadata": {},
   "source": [
    "# Feature Engineering\n",
    "Adapted from https://www.kaggle.com/juliencs/a-study-on-regression-applied-to-the-ames-dataset"
   ]
  },
  {
   "cell_type": "code",
   "execution_count": 1,
   "metadata": {
    "collapsed": true
   },
   "outputs": [],
   "source": [
    "# Imports\n",
    "import pandas as pd\n",
    "import numpy as np\n",
    "from sklearn.model_selection import cross_val_score, train_test_split\n",
    "from sklearn.preprocessing import StandardScaler\n",
    "from sklearn.linear_model import LinearRegression, RidgeCV, LassoCV, ElasticNetCV\n",
    "from sklearn.metrics import mean_squared_error, make_scorer\n",
    "from scipy.stats import skew\n",
    "from IPython.display import display\n",
    "import matplotlib.pyplot as plt\n",
    "import seaborn as sns\n",
    "\n",
    "# Definitions\n",
    "pd.set_option('display.float_format', lambda x: '%.3f' % x)\n",
    "%matplotlib inline\n",
    "#njobs = 4"
   ]
  },
  {
   "cell_type": "code",
   "execution_count": 2,
   "metadata": {
    "collapsed": true
   },
   "outputs": [],
   "source": [
    "# Read the data\n",
    "train = pd.read_csv(\"train.csv\")\n",
    "test = pd.read_csv(\"test.csv\")"
   ]
  },
  {
   "cell_type": "code",
   "execution_count": 3,
   "metadata": {},
   "outputs": [
    {
     "data": {
      "image/png": "[encoded data removed]",
      "text/plain": [
       "<matplotlib.figure.Figure at 0x1ffd18e5240>"
      ]
     },
     "metadata": {},
     "output_type": "display_data"
    }
   ],
   "source": [
    "# Looking for outliers, as indicated in https://ww2.amstat.org/publications/jse/v19n3/decock.pdf\n",
    "plt.scatter(train.GrLivArea, train.SalePrice, c = \"blue\", marker = \"s\")\n",
    "plt.title(\"Looking for outliers\")\n",
    "plt.xlabel(\"GrLivArea\")\n",
    "plt.ylabel(\"SalePrice\")\n",
    "plt.show()"
   ]
  },
  {
   "cell_type": "markdown",
   "metadata": {},
   "source": [
    "* There doesn't appear to be any apparent outliers in the training data. This should be fine to leave it like this"
   ]
  },
  {
   "cell_type": "code",
   "execution_count": 4,
   "metadata": {
    "collapsed": true
   },
   "outputs": [],
   "source": [
    "# Combine all the data to make data preprocessing easier\n",
    "all_data = pd.concat((train.loc[:,'MSSubClass':'YrSold'],test.loc[:,'MSSubClass':'YrSold']))"
   ]
  },
  {
   "cell_type": "code",
   "execution_count": 5,
   "metadata": {},
   "outputs": [
    {
     "data": {
      "text/html": [
       "<div>\n",
       "<style>\n",
       "    .dataframe thead tr:only-child th {\n",
       "        text-align: right;\n",
       "    }\n",
       "\n",
       "    .dataframe thead th {\n",
       "        text-align: left;\n",
       "    }\n",
       "\n",
       "    .dataframe tbody tr th {\n",
       "        vertical-align: top;\n",
       "    }\n",
       "</style>\n",
       "<table border=\"1\" class=\"dataframe\">\n",
       "  <thead>\n",
       "    <tr style=\"text-align: right;\">\n",
       "      <th></th>\n",
       "      <th>MSSubClass</th>\n",
       "      <th>LotFrontage</th>\n",
       "      <th>LotArea</th>\n",
       "      <th>OverallQual</th>\n",
       "      <th>OverallCond</th>\n",
       "      <th>YearBuilt</th>\n",
       "      <th>YearRemod/Add</th>\n",
       "      <th>MasVnrArea</th>\n",
       "      <th>BsmtFinSF1</th>\n",
       "      <th>BsmtFinSF2</th>\n",
       "      <th>...</th>\n",
       "      <th>GarageArea</th>\n",
       "      <th>WoodDeckSF</th>\n",
       "      <th>OpenPorchSF</th>\n",
       "      <th>EnclosedPorch</th>\n",
       "      <th>3SsnPorch</th>\n",
       "      <th>ScreenPorch</th>\n",
       "      <th>PoolArea</th>\n",
       "      <th>MiscVal</th>\n",
       "      <th>MoSold</th>\n",
       "      <th>YrSold</th>\n",
       "    </tr>\n",
       "  </thead>\n",
       "  <tbody>\n",
       "    <tr>\n",
       "      <th>count</th>\n",
       "      <td>2412.000</td>\n",
       "      <td>1961.000</td>\n",
       "      <td>2412.000</td>\n",
       "      <td>2412.000</td>\n",
       "      <td>2412.000</td>\n",
       "      <td>2412.000</td>\n",
       "      <td>2412.000</td>\n",
       "      <td>2401.000</td>\n",
       "      <td>2412.000</td>\n",
       "      <td>2412.000</td>\n",
       "      <td>...</td>\n",
       "      <td>2412.000</td>\n",
       "      <td>2412.000</td>\n",
       "      <td>2412.000</td>\n",
       "      <td>2412.000</td>\n",
       "      <td>2412.000</td>\n",
       "      <td>2412.000</td>\n",
       "      <td>2412.000</td>\n",
       "      <td>2412.000</td>\n",
       "      <td>2412.000</td>\n",
       "      <td>2412.000</td>\n",
       "    </tr>\n",
       "    <tr>\n",
       "      <th>mean</th>\n",
       "      <td>57.977</td>\n",
       "      <td>68.193</td>\n",
       "      <td>10055.451</td>\n",
       "      <td>6.007</td>\n",
       "      <td>5.649</td>\n",
       "      <td>1969.426</td>\n",
       "      <td>1983.269</td>\n",
       "      <td>95.634</td>\n",
       "      <td>438.745</td>\n",
       "      <td>55.148</td>\n",
       "      <td>...</td>\n",
       "      <td>461.100</td>\n",
       "      <td>95.756</td>\n",
       "      <td>44.655</td>\n",
       "      <td>23.397</td>\n",
       "      <td>2.497</td>\n",
       "      <td>16.298</td>\n",
       "      <td>1.778</td>\n",
       "      <td>51.499</td>\n",
       "      <td>6.119</td>\n",
       "      <td>2007.869</td>\n",
       "    </tr>\n",
       "    <tr>\n",
       "      <th>std</th>\n",
       "      <td>42.911</td>\n",
       "      <td>22.658</td>\n",
       "      <td>8221.143</td>\n",
       "      <td>1.335</td>\n",
       "      <td>1.128</td>\n",
       "      <td>29.490</td>\n",
       "      <td>20.335</td>\n",
       "      <td>171.148</td>\n",
       "      <td>416.311</td>\n",
       "      <td>177.318</td>\n",
       "      <td>...</td>\n",
       "      <td>201.576</td>\n",
       "      <td>130.143</td>\n",
       "      <td>62.945</td>\n",
       "      <td>64.474</td>\n",
       "      <td>25.236</td>\n",
       "      <td>57.105</td>\n",
       "      <td>31.375</td>\n",
       "      <td>514.779</td>\n",
       "      <td>2.628</td>\n",
       "      <td>1.309</td>\n",
       "    </tr>\n",
       "    <tr>\n",
       "      <th>min</th>\n",
       "      <td>20.000</td>\n",
       "      <td>21.000</td>\n",
       "      <td>1300.000</td>\n",
       "      <td>1.000</td>\n",
       "      <td>1.000</td>\n",
       "      <td>1872.000</td>\n",
       "      <td>1950.000</td>\n",
       "      <td>0.000</td>\n",
       "      <td>0.000</td>\n",
       "      <td>0.000</td>\n",
       "      <td>...</td>\n",
       "      <td>0.000</td>\n",
       "      <td>0.000</td>\n",
       "      <td>0.000</td>\n",
       "      <td>0.000</td>\n",
       "      <td>0.000</td>\n",
       "      <td>0.000</td>\n",
       "      <td>0.000</td>\n",
       "      <td>0.000</td>\n",
       "      <td>1.000</td>\n",
       "      <td>2006.000</td>\n",
       "    </tr>\n",
       "    <tr>\n",
       "      <th>25%</th>\n",
       "      <td>20.000</td>\n",
       "      <td>57.000</td>\n",
       "      <td>7389.500</td>\n",
       "      <td>5.000</td>\n",
       "      <td>5.000</td>\n",
       "      <td>1953.000</td>\n",
       "      <td>1965.000</td>\n",
       "      <td>0.000</td>\n",
       "      <td>0.000</td>\n",
       "      <td>0.000</td>\n",
       "      <td>...</td>\n",
       "      <td>315.000</td>\n",
       "      <td>0.000</td>\n",
       "      <td>0.000</td>\n",
       "      <td>0.000</td>\n",
       "      <td>0.000</td>\n",
       "      <td>0.000</td>\n",
       "      <td>0.000</td>\n",
       "      <td>0.000</td>\n",
       "      <td>4.000</td>\n",
       "      <td>2007.000</td>\n",
       "    </tr>\n",
       "    <tr>\n",
       "      <th>50%</th>\n",
       "      <td>50.000</td>\n",
       "      <td>67.000</td>\n",
       "      <td>9360.000</td>\n",
       "      <td>6.000</td>\n",
       "      <td>5.000</td>\n",
       "      <td>1971.000</td>\n",
       "      <td>1991.000</td>\n",
       "      <td>0.000</td>\n",
       "      <td>384.500</td>\n",
       "      <td>0.000</td>\n",
       "      <td>...</td>\n",
       "      <td>471.500</td>\n",
       "      <td>0.000</td>\n",
       "      <td>24.000</td>\n",
       "      <td>0.000</td>\n",
       "      <td>0.000</td>\n",
       "      <td>0.000</td>\n",
       "      <td>0.000</td>\n",
       "      <td>0.000</td>\n",
       "      <td>6.000</td>\n",
       "      <td>2008.000</td>\n",
       "    </tr>\n",
       "    <tr>\n",
       "      <th>75%</th>\n",
       "      <td>70.000</td>\n",
       "      <td>80.000</td>\n",
       "      <td>11401.000</td>\n",
       "      <td>7.000</td>\n",
       "      <td>6.000</td>\n",
       "      <td>1998.000</td>\n",
       "      <td>2002.000</td>\n",
       "      <td>149.000</td>\n",
       "      <td>720.000</td>\n",
       "      <td>0.000</td>\n",
       "      <td>...</td>\n",
       "      <td>576.000</td>\n",
       "      <td>168.000</td>\n",
       "      <td>68.000</td>\n",
       "      <td>0.000</td>\n",
       "      <td>0.000</td>\n",
       "      <td>0.000</td>\n",
       "      <td>0.000</td>\n",
       "      <td>0.000</td>\n",
       "      <td>7.250</td>\n",
       "      <td>2009.000</td>\n",
       "    </tr>\n",
       "    <tr>\n",
       "      <th>max</th>\n",
       "      <td>190.000</td>\n",
       "      <td>313.000</td>\n",
       "      <td>215245.000</td>\n",
       "      <td>10.000</td>\n",
       "      <td>9.000</td>\n",
       "      <td>2010.000</td>\n",
       "      <td>2010.000</td>\n",
       "      <td>1600.000</td>\n",
       "      <td>2288.000</td>\n",
       "      <td>1526.000</td>\n",
       "      <td>...</td>\n",
       "      <td>1488.000</td>\n",
       "      <td>1424.000</td>\n",
       "      <td>570.000</td>\n",
       "      <td>1012.000</td>\n",
       "      <td>508.000</td>\n",
       "      <td>576.000</td>\n",
       "      <td>800.000</td>\n",
       "      <td>15500.000</td>\n",
       "      <td>12.000</td>\n",
       "      <td>2010.000</td>\n",
       "    </tr>\n",
       "  </tbody>\n",
       "</table>\n",
       "<p>8 rows × 36 columns</p>\n",
       "</div>"
      ],
      "text/plain": [
       "       MSSubClass  LotFrontage    LotArea  OverallQual  OverallCond  \\\n",
       "count    2412.000     1961.000   2412.000     2412.000     2412.000   \n",
       "mean       57.977       68.193  10055.451        6.007        5.649   \n",
       "std        42.911       22.658   8221.143        1.335        1.128   \n",
       "min        20.000       21.000   1300.000        1.000        1.000   \n",
       "25%        20.000       57.000   7389.500        5.000        5.000   \n",
       "50%        50.000       67.000   9360.000        6.000        5.000   \n",
       "75%        70.000       80.000  11401.000        7.000        6.000   \n",
       "max       190.000      313.000 215245.000       10.000        9.000   \n",
       "\n",
       "       YearBuilt  YearRemod/Add  MasVnrArea  BsmtFinSF1  BsmtFinSF2   ...     \\\n",
       "count   2412.000       2412.000    2401.000    2412.000    2412.000   ...      \n",
       "mean    1969.426       1983.269      95.634     438.745      55.148   ...      \n",
       "std       29.490         20.335     171.148     416.311     177.318   ...      \n",
       "min     1872.000       1950.000       0.000       0.000       0.000   ...      \n",
       "25%     1953.000       1965.000       0.000       0.000       0.000   ...      \n",
       "50%     1971.000       1991.000       0.000     384.500       0.000   ...      \n",
       "75%     1998.000       2002.000     149.000     720.000       0.000   ...      \n",
       "max     2010.000       2010.000    1600.000    2288.000    1526.000   ...      \n",
       "\n",
       "       GarageArea  WoodDeckSF  OpenPorchSF  EnclosedPorch  3SsnPorch  \\\n",
       "count    2412.000    2412.000     2412.000       2412.000   2412.000   \n",
       "mean      461.100      95.756       44.655         23.397      2.497   \n",
       "std       201.576     130.143       62.945         64.474     25.236   \n",
       "min         0.000       0.000        0.000          0.000      0.000   \n",
       "25%       315.000       0.000        0.000          0.000      0.000   \n",
       "50%       471.500       0.000       24.000          0.000      0.000   \n",
       "75%       576.000     168.000       68.000          0.000      0.000   \n",
       "max      1488.000    1424.000      570.000       1012.000    508.000   \n",
       "\n",
       "       ScreenPorch  PoolArea   MiscVal   MoSold   YrSold  \n",
       "count     2412.000  2412.000  2412.000 2412.000 2412.000  \n",
       "mean        16.298     1.778    51.499    6.119 2007.869  \n",
       "std         57.105    31.375   514.779    2.628    1.309  \n",
       "min          0.000     0.000     0.000    1.000 2006.000  \n",
       "25%          0.000     0.000     0.000    4.000 2007.000  \n",
       "50%          0.000     0.000     0.000    6.000 2008.000  \n",
       "75%          0.000     0.000     0.000    7.250 2009.000  \n",
       "max        576.000   800.000 15500.000   12.000 2010.000  \n",
       "\n",
       "[8 rows x 36 columns]"
      ]
     },
     "execution_count": 5,
     "metadata": {},
     "output_type": "execute_result"
    }
   ],
   "source": [
    "all_data.describe()"
   ]
  },
  {
   "cell_type": "code",
   "execution_count": 6,
   "metadata": {
    "collapsed": true
   },
   "outputs": [],
   "source": [
    "# Take a log transformation of the sales price to reduce skewness\n",
    "train.SalePrice = np.log1p(train.SalePrice)\n",
    "y_train = train.SalePrice"
   ]
  },
  {
   "cell_type": "markdown",
   "metadata": {},
   "source": [
    "* Taking logs means that errors in predicting expensive houses and cheap houses will affect the result equally."
   ]
  },
  {
   "cell_type": "markdown",
   "metadata": {},
   "source": [
    "## Data Preprocessing\n",
    "Here we are going to edit the data so it is easier to work with. i.e. handling missing values, creating new predictors, etc."
   ]
  },
  {
   "cell_type": "code",
   "execution_count": 7,
   "metadata": {},
   "outputs": [
    {
     "data": {
      "text/html": [
       "<div>\n",
       "<style>\n",
       "    .dataframe thead tr:only-child th {\n",
       "        text-align: right;\n",
       "    }\n",
       "\n",
       "    .dataframe thead th {\n",
       "        text-align: left;\n",
       "    }\n",
       "\n",
       "    .dataframe tbody tr th {\n",
       "        vertical-align: top;\n",
       "    }\n",
       "</style>\n",
       "<table border=\"1\" class=\"dataframe\">\n",
       "  <thead>\n",
       "    <tr style=\"text-align: right;\">\n",
       "      <th></th>\n",
       "      <th>Total</th>\n",
       "      <th>Percent</th>\n",
       "    </tr>\n",
       "  </thead>\n",
       "  <tbody>\n",
       "    <tr>\n",
       "      <th>PoolQC</th>\n",
       "      <td>2403</td>\n",
       "      <td>0.996</td>\n",
       "    </tr>\n",
       "    <tr>\n",
       "      <th>MiscFeature</th>\n",
       "      <td>2316</td>\n",
       "      <td>0.960</td>\n",
       "    </tr>\n",
       "    <tr>\n",
       "      <th>Alley</th>\n",
       "      <td>2258</td>\n",
       "      <td>0.936</td>\n",
       "    </tr>\n",
       "    <tr>\n",
       "      <th>Fence</th>\n",
       "      <td>1910</td>\n",
       "      <td>0.792</td>\n",
       "    </tr>\n",
       "    <tr>\n",
       "      <th>FireplaceQu</th>\n",
       "      <td>1164</td>\n",
       "      <td>0.483</td>\n",
       "    </tr>\n",
       "    <tr>\n",
       "      <th>LotFrontage</th>\n",
       "      <td>451</td>\n",
       "      <td>0.187</td>\n",
       "    </tr>\n",
       "    <tr>\n",
       "      <th>GarageQual</th>\n",
       "      <td>117</td>\n",
       "      <td>0.049</td>\n",
       "    </tr>\n",
       "    <tr>\n",
       "      <th>GarageCond</th>\n",
       "      <td>117</td>\n",
       "      <td>0.049</td>\n",
       "    </tr>\n",
       "    <tr>\n",
       "      <th>GarageYrBlt</th>\n",
       "      <td>117</td>\n",
       "      <td>0.049</td>\n",
       "    </tr>\n",
       "    <tr>\n",
       "      <th>GarageFinish</th>\n",
       "      <td>117</td>\n",
       "      <td>0.049</td>\n",
       "    </tr>\n",
       "    <tr>\n",
       "      <th>GarageType</th>\n",
       "      <td>116</td>\n",
       "      <td>0.048</td>\n",
       "    </tr>\n",
       "    <tr>\n",
       "      <th>BsmtExposure</th>\n",
       "      <td>69</td>\n",
       "      <td>0.029</td>\n",
       "    </tr>\n",
       "    <tr>\n",
       "      <th>BsmtFinType2</th>\n",
       "      <td>68</td>\n",
       "      <td>0.028</td>\n",
       "    </tr>\n",
       "    <tr>\n",
       "      <th>BsmtFinType1</th>\n",
       "      <td>67</td>\n",
       "      <td>0.028</td>\n",
       "    </tr>\n",
       "    <tr>\n",
       "      <th>BsmtQual</th>\n",
       "      <td>67</td>\n",
       "      <td>0.028</td>\n",
       "    </tr>\n",
       "    <tr>\n",
       "      <th>BsmtCond</th>\n",
       "      <td>67</td>\n",
       "      <td>0.028</td>\n",
       "    </tr>\n",
       "    <tr>\n",
       "      <th>MasVnrArea</th>\n",
       "      <td>11</td>\n",
       "      <td>0.005</td>\n",
       "    </tr>\n",
       "    <tr>\n",
       "      <th>MasVnrType</th>\n",
       "      <td>11</td>\n",
       "      <td>0.005</td>\n",
       "    </tr>\n",
       "    <tr>\n",
       "      <th>Electrical</th>\n",
       "      <td>1</td>\n",
       "      <td>0.000</td>\n",
       "    </tr>\n",
       "    <tr>\n",
       "      <th>BsmtFullBath</th>\n",
       "      <td>1</td>\n",
       "      <td>0.000</td>\n",
       "    </tr>\n",
       "  </tbody>\n",
       "</table>\n",
       "</div>"
      ],
      "text/plain": [
       "              Total  Percent\n",
       "PoolQC         2403    0.996\n",
       "MiscFeature    2316    0.960\n",
       "Alley          2258    0.936\n",
       "Fence          1910    0.792\n",
       "FireplaceQu    1164    0.483\n",
       "LotFrontage     451    0.187\n",
       "GarageQual      117    0.049\n",
       "GarageCond      117    0.049\n",
       "GarageYrBlt     117    0.049\n",
       "GarageFinish    117    0.049\n",
       "GarageType      116    0.048\n",
       "BsmtExposure     69    0.029\n",
       "BsmtFinType2     68    0.028\n",
       "BsmtFinType1     67    0.028\n",
       "BsmtQual         67    0.028\n",
       "BsmtCond         67    0.028\n",
       "MasVnrArea       11    0.005\n",
       "MasVnrType       11    0.005\n",
       "Electrical        1    0.000\n",
       "BsmtFullBath      1    0.000"
      ]
     },
     "execution_count": 7,
     "metadata": {},
     "output_type": "execute_result"
    }
   ],
   "source": [
    "# missing data\n",
    "# The higher the percentage, the more data that is missing\n",
    "total = all_data.isnull().sum().sort_values(ascending=False)\n",
    "percent = (all_data.isnull().sum()/all_data.isnull().count()).sort_values(ascending=False)\n",
    "missing_data = pd.concat([total, percent], axis=1, keys=['Total', 'Percent'])\n",
    "missing_data.head(20)"
   ]
  },
  {
   "cell_type": "code",
   "execution_count": 8,
   "metadata": {
    "collapsed": true
   },
   "outputs": [],
   "source": [
    "# Handle missing values for features where median/mean/mode doesn't make sense.\n",
    "# This has been informed by looking at the data description\n",
    "\n",
    "# PoolQC : NA - no pool\n",
    "all_data.loc[:, \"PoolQC\"] = all_data.loc[:, \"PoolQC\"].fillna(\"No\")\n",
    "# MiscFeature : data description says NA means \"no misc feature\"\n",
    "all_data.loc[:, \"MiscFeature\"] = all_data.loc[:, \"MiscFeature\"].fillna(\"No\")\n",
    "# Fence : data description says NA means \"no fence\"\n",
    "all_data.loc[:, \"Fence\"] = all_data.loc[:, \"Fence\"].fillna(\"No\")\n",
    "# FireplaceQu : data description says NA means \"no fireplace\"\n",
    "all_data.loc[:, \"FireplaceQu\"] = all_data.loc[:, \"FireplaceQu\"].fillna(\"No\")\n",
    "# LotFrontage : NA most likely means no lot frontage\n",
    "all_data.loc[:, \"LotFrontage\"] = all_data.loc[:, \"LotFrontage\"].fillna(0)\n",
    "# GarageType etc : data description says NA for garage features is \"no garage\"\n",
    "all_data.loc[:, \"GarageType\"] = all_data.loc[:, \"GarageType\"].fillna(\"No\")\n",
    "all_data.loc[:, \"GarageFinish\"] = all_data.loc[:, \"GarageFinish\"].fillna(\"No\")\n",
    "all_data.loc[:, \"GarageQual\"] = all_data.loc[:, \"GarageQual\"].fillna(\"No\")\n",
    "all_data.loc[:, \"GarageCond\"] = all_data.loc[:, \"GarageCond\"].fillna(\"No\")\n",
    "all_data.loc[:, \"GarageYrBlt\"] = all_data.loc[:, \"GarageYrBlt\"].fillna(\"No\")\n",
    "# BsmtQual etc : data description says NA for basement features is \"no basement\"\n",
    "all_data.loc[:, \"BsmtQual\"] = all_data.loc[:, \"BsmtQual\"].fillna(\"No\")\n",
    "all_data.loc[:, \"BsmtCond\"] = all_data.loc[:, \"BsmtCond\"].fillna(\"No\")\n",
    "all_data.loc[:, \"BsmtExposure\"] = all_data.loc[:, \"BsmtExposure\"].fillna(\"No\")\n",
    "all_data.loc[:, \"BsmtFinType1\"] = all_data.loc[:, \"BsmtFinType1\"].fillna(\"No\")\n",
    "all_data.loc[:, \"BsmtFinType2\"] = all_data.loc[:, \"BsmtFinType2\"].fillna(\"No\")\n",
    "all_data.loc[:, \"BsmtFullBath\"] = all_data.loc[:, \"BsmtFullBath\"].fillna(0)\n",
    "all_data.loc[:, \"BsmtHalfBath\"] = all_data.loc[:, \"BsmtHalfBath\"].fillna(0)\n",
    "# MasVnrType : NA most likely means no veneer\n",
    "all_data.loc[:, \"MasVnrType\"] = all_data.loc[:, \"MasVnrType\"].fillna(\"None\")\n",
    "all_data.loc[:, \"MasVnrArea\"] = all_data.loc[:, \"MasVnrArea\"].fillna(0)\n",
    "# Electrical : NA most likely means no electrical system\n",
    "all_data.loc[:, \"Electrical\"] = all_data.loc[:, \"Electrical\"].fillna(\"None\")\n",
    "# Alley : data description says NA means \"no alley access\"\n",
    "all_data.loc[:, \"Alley\"] = all_data.loc[:, \"Alley\"].fillna(\"None\")"
   ]
  },
  {
   "cell_type": "markdown",
   "metadata": {},
   "source": [
    "* **Consider removing the predictors which have a lot of missing data as they will probably not contribute to the regression. Have a cut off factor of say it must contain at least 15% of data**"
   ]
  },
  {
   "cell_type": "code",
   "execution_count": 9,
   "metadata": {
    "collapsed": true
   },
   "outputs": [],
   "source": [
    "# MSSubClass and MoSold are ordinal variables and not continous\n",
    "all_data = all_data.replace({\"MSSubClass\" : {20 : \"SC20\", 30 : \"SC30\", 40 : \"SC40\", 45 : \"SC45\", \n",
    "                                       50 : \"SC50\", 60 : \"SC60\", 70 : \"SC70\", 75 : \"SC75\", \n",
    "                                       80 : \"SC80\", 85 : \"SC85\", 90 : \"SC90\", 120 : \"SC120\", \n",
    "                                       150 : \"SC150\", 160 : \"SC160\", 180 : \"SC180\", 190 : \"SC190\"},\n",
    "                       \"MoSold\" : {1 : \"Jan\", 2 : \"Feb\", 3 : \"Mar\", 4 : \"Apr\", 5 : \"May\", 6 : \"Jun\",\n",
    "                                   7 : \"Jul\", 8 : \"Aug\", 9 : \"Sep\", 10 : \"Oct\", 11 : \"Nov\", 12 : \"Dec\"}\n",
    "                      })"
   ]
  },
  {
   "cell_type": "code",
   "execution_count": 10,
   "metadata": {
    "collapsed": true
   },
   "outputs": [],
   "source": [
    "# Encode some categorical features as ordered numbers when there is information in the order\n",
    "all_data = all_data.replace({\"Alley\" : {\"Grvl\" : 1, \"Pave\" : 2},\n",
    "                       \"BsmtCond\" : {\"No\" : 0, \"Po\" : 1, \"Fa\" : 2, \"TA\" : 3, \"Gd\" : 4, \"Ex\" : 5},\n",
    "                       \"BsmtExposure\" : {\"No\" : 0, \"Mn\" : 1, \"Av\": 2, \"Gd\" : 3},\n",
    "                       \"BsmtFinType1\" : {\"No\" : 0, \"Unf\" : 1, \"LwQ\": 2, \"Rec\" : 3, \"BLQ\" : 4, \n",
    "                                         \"ALQ\" : 5, \"GLQ\" : 6},\n",
    "                       \"BsmtFinType2\" : {\"No\" : 0, \"Unf\" : 1, \"LwQ\": 2, \"Rec\" : 3, \"BLQ\" : 4, \n",
    "                                         \"ALQ\" : 5, \"GLQ\" : 6},\n",
    "                       \"BsmtQual\" : {\"No\" : 0, \"Po\" : 1, \"Fa\" : 2, \"TA\": 3, \"Gd\" : 4, \"Ex\" : 5},\n",
    "                       \"ExterCond\" : {\"Po\" : 1, \"Fa\" : 2, \"TA\": 3, \"Gd\": 4, \"Ex\" : 5},\n",
    "                       \"ExterQual\" : {\"Po\" : 1, \"Fa\" : 2, \"TA\": 3, \"Gd\": 4, \"Ex\" : 5},\n",
    "                       \"FireplaceQu\" : {\"No\" : 0, \"Po\" : 1, \"Fa\" : 2, \"TA\" : 3, \"Gd\" : 4, \"Ex\" : 5},\n",
    "                       \"Functional\" : {\"Sal\" : 1, \"Sev\" : 2, \"Maj2\" : 3, \"Maj1\" : 4, \"Mod\": 5, \n",
    "                                       \"Min2\" : 6, \"Min1\" : 7, \"Typ\" : 8},\n",
    "                       \"GarageCond\" : {\"No\" : 0, \"Po\" : 1, \"Fa\" : 2, \"TA\" : 3, \"Gd\" : 4, \"Ex\" : 5},\n",
    "                       \"GarageQual\" : {\"No\" : 0, \"Po\" : 1, \"Fa\" : 2, \"TA\" : 3, \"Gd\" : 4, \"Ex\" : 5},\n",
    "                       \"HeatingQC\" : {\"Po\" : 1, \"Fa\" : 2, \"TA\" : 3, \"Gd\" : 4, \"Ex\" : 5},\n",
    "                       \"KitchenQual\" : {\"Po\" : 1, \"Fa\" : 2, \"TA\" : 3, \"Gd\" : 4, \"Ex\" : 5},\n",
    "                       \"LandSlope\" : {\"Sev\" : 1, \"Mod\" : 2, \"Gtl\" : 3},\n",
    "                       \"LotShape\" : {\"IR3\" : 1, \"IR2\" : 2, \"IR1\" : 3, \"Reg\" : 4},\n",
    "                       \"PavedDrive\" : {\"N\" : 0, \"P\" : 1, \"Y\" : 2},\n",
    "                       \"PoolQC\" : {\"No\" : 0, \"Fa\" : 1, \"TA\" : 2, \"Gd\" : 3, \"Ex\" : 4},\n",
    "                       \"Street\" : {\"Grvl\" : 1, \"Pave\" : 2},\n",
    "                       \"Utilities\" : {\"ELO\" : 1, \"NoSeWa\" : 2, \"NoSewr\" : 3, \"AllPub\" : 4}}\n",
    "                     )"
   ]
  },
  {
   "cell_type": "markdown",
   "metadata": {},
   "source": [
    "* **Create some additional features here which can be used to better predict the data**"
   ]
  },
  {
   "cell_type": "markdown",
   "metadata": {},
   "source": [
    "## Feature Enginering"
   ]
  },
  {
   "cell_type": "code",
   "execution_count": 11,
   "metadata": {
    "collapsed": true
   },
   "outputs": [],
   "source": [
    "# Create new features\n",
    "# 1* Simplifications of existing features\n",
    "all_data[\"SimplOverallQual\"] = all_data.OverallQual.replace({1 : 1, 2 : 1, 3 : 1, # bad\n",
    "                                                       4 : 2, 5 : 2, 6 : 2, # average\n",
    "                                                       7 : 3, 8 : 3, 9 : 3, 10 : 3 # good\n",
    "                                                      })\n",
    "all_data[\"SimplOverallCond\"] = all_data.OverallCond.replace({1 : 1, 2 : 1, 3 : 1, # bad\n",
    "                                                       4 : 2, 5 : 2, 6 : 2, # average\n",
    "                                                       7 : 3, 8 : 3, 9 : 3, 10 : 3 # good\n",
    "                                                      })\n",
    "all_data[\"SimplPoolQC\"] = all_data.PoolQC.replace({1 : 1, 2 : 1, # average\n",
    "                                             3 : 2, 4 : 2 # good\n",
    "                                            })\n",
    "all_data[\"SimplGarageCond\"] = all_data.GarageCond.replace({1 : 1, # bad\n",
    "                                                     2 : 1, 3 : 1, # average\n",
    "                                                     4 : 2, 5 : 2 # good\n",
    "                                                    })\n",
    "all_data[\"SimplGarageQual\"] = all_data.GarageQual.replace({1 : 1, # bad\n",
    "                                                     2 : 1, 3 : 1, # average\n",
    "                                                     4 : 2, 5 : 2 # good\n",
    "                                                    })\n",
    "all_data[\"SimplFireplaceQu\"] = all_data.FireplaceQu.replace({1 : 1, # bad\n",
    "                                                       2 : 1, 3 : 1, # average\n",
    "                                                       4 : 2, 5 : 2 # good\n",
    "                                                      })\n",
    "all_data[\"SimplFireplaceQu\"] = all_data.FireplaceQu.replace({1 : 1, # bad\n",
    "                                                       2 : 1, 3 : 1, # average\n",
    "                                                       4 : 2, 5 : 2 # good\n",
    "                                                      })\n",
    "all_data[\"SimplFunctional\"] = all_data.Functional.replace({1 : 1, 2 : 1, # bad\n",
    "                                                     3 : 2, 4 : 2, # major\n",
    "                                                     5 : 3, 6 : 3, 7 : 3, # minor\n",
    "                                                     8 : 4 # typical\n",
    "                                                    })\n",
    "all_data[\"SimplKitchenQual\"] = all_data.KitchenQual.replace({1 : 1, # bad\n",
    "                                                       2 : 1, 3 : 1, # average\n",
    "                                                       4 : 2, 5 : 2 # good\n",
    "                                                      })\n",
    "all_data[\"SimplHeatingQC\"] = all_data.HeatingQC.replace({1 : 1, # bad\n",
    "                                                   2 : 1, 3 : 1, # average\n",
    "                                                   4 : 2, 5 : 2 # good\n",
    "                                                  })\n",
    "all_data[\"SimplBsmtFinType1\"] = all_data.BsmtFinType1.replace({1 : 1, # unfinished\n",
    "                                                         2 : 1, 3 : 1, # rec room\n",
    "                                                         4 : 2, 5 : 2, 6 : 2 # living quarters\n",
    "                                                        })\n",
    "all_data[\"SimplBsmtFinType2\"] = all_data.BsmtFinType2.replace({1 : 1, # unfinished\n",
    "                                                         2 : 1, 3 : 1, # rec room\n",
    "                                                         4 : 2, 5 : 2, 6 : 2 # living quarters\n",
    "                                                        })\n",
    "all_data[\"SimplBsmtCond\"] = all_data.BsmtCond.replace({1 : 1, # bad\n",
    "                                                 2 : 1, 3 : 1, # average\n",
    "                                                 4 : 2, 5 : 2 # good\n",
    "                                                })\n",
    "all_data[\"SimplBsmtQual\"] = all_data.BsmtQual.replace({1 : 1, # bad\n",
    "                                                 2 : 1, 3 : 1, # average\n",
    "                                                 4 : 2, 5 : 2 # good\n",
    "                                                })\n",
    "all_data[\"SimplExterCond\"] = all_data.ExterCond.replace({1 : 1, # bad\n",
    "                                                   2 : 1, 3 : 1, # average\n",
    "                                                   4 : 2, 5 : 2 # good\n",
    "                                                  })\n",
    "all_data[\"SimplExterQual\"] = all_data.ExterQual.replace({1 : 1, # bad\n",
    "                                                   2 : 1, 3 : 1, # average\n",
    "                                                   4 : 2, 5 : 2 # good\n",
    "                                                  })\n",
    "\n",
    "# 2* Combinations of existing features\n",
    "# Overall quality of the house\n",
    "all_data[\"OverallGrade\"] = all_data[\"OverallQual\"] * all_data[\"OverallCond\"]\n",
    "# Overall quality of the garage\n",
    "all_data[\"GarageGrade\"] = all_data[\"GarageQual\"] * all_data[\"GarageCond\"]\n",
    "# Overall quality of the exterior\n",
    "all_data[\"ExterGrade\"] = all_data[\"ExterQual\"] * all_data[\"ExterCond\"]\n",
    "# Overall kitchen score\n",
    "all_data[\"KitchenScore\"] = all_data[\"KitchenAbvGr\"] * all_data[\"KitchenQual\"]\n",
    "# Overall fireplace score\n",
    "all_data[\"FireplaceScore\"] = all_data[\"Fireplaces\"] * all_data[\"FireplaceQu\"]\n",
    "# Overall garage score\n",
    "all_data[\"GarageScore\"] = all_data[\"GarageArea\"] * all_data[\"GarageQual\"]\n",
    "# Overall pool score\n",
    "all_data[\"PoolScore\"] = all_data[\"PoolArea\"] * all_data[\"PoolQC\"]\n",
    "# Simplified overall quality of the house\n",
    "all_data[\"SimplOverallGrade\"] = all_data[\"SimplOverallQual\"] * all_data[\"SimplOverallCond\"]\n",
    "# Simplified overall quality of the exterior\n",
    "all_data[\"SimplExterGrade\"] = all_data[\"SimplExterQual\"] * all_data[\"SimplExterCond\"]\n",
    "# Simplified overall pool score\n",
    "all_data[\"SimplPoolScore\"] = all_data[\"PoolArea\"] * all_data[\"SimplPoolQC\"]\n",
    "# Simplified overall garage score\n",
    "all_data[\"SimplGarageScore\"] = all_data[\"GarageArea\"] * all_data[\"SimplGarageQual\"]\n",
    "# Simplified overall fireplace score\n",
    "all_data[\"SimplFireplaceScore\"] = all_data[\"Fireplaces\"] * all_data[\"SimplFireplaceQu\"]\n",
    "# Simplified overall kitchen score\n",
    "all_data[\"SimplKitchenScore\"] = all_data[\"KitchenAbvGr\"] * all_data[\"SimplKitchenQual\"]\n",
    "# Total number of bathrooms\n",
    "all_data[\"TotalBath\"] = all_data[\"BsmtFullBath\"] + (0.5 * all_data[\"BsmtHalfBath\"]) + \\\n",
    "all_data[\"FullBath\"] + (0.5 * all_data[\"HalfBath\"])\n",
    "# Total SF for house (incl. basement)\n",
    "all_data[\"AllSF\"] = all_data[\"GrLivArea\"] + all_data[\"TotalBsmtSF\"]\n",
    "# Total SF for 1st + 2nd floors\n",
    "all_data[\"AllFlrsSF\"] = all_data[\"1stFlrSF\"] + all_data[\"2ndFlrSF\"]\n",
    "# Total SF for porch\n",
    "all_data[\"AllPorchSF\"] = all_data[\"OpenPorchSF\"] + all_data[\"EnclosedPorch\"] + \\\n",
    "all_data[\"3SsnPorch\"] + all_data[\"ScreenPorch\"]\n",
    "# Has masonry veneer or not\n",
    "all_data[\"HasMasVnr\"] = all_data.MasVnrType.replace({\"BrkCmn\" : 1, \"BrkFace\" : 1, \"CBlock\" : 1, \n",
    "                                               \"Stone\" : 1, \"None\" : 0})"
   ]
  },
  {
   "cell_type": "code",
   "execution_count": 12,
   "metadata": {
    "collapsed": true
   },
   "outputs": [],
   "source": [
    "# Create new features\n",
    "# 3* Polynomials on the top 10 existing features\n",
    "all_data[\"OverallQual-s2\"] = all_data[\"OverallQual\"] ** 2\n",
    "all_data[\"OverallQual-s3\"] = all_data[\"OverallQual\"] ** 3\n",
    "all_data[\"OverallQual-Sq\"] = np.sqrt(all_data[\"OverallQual\"])\n",
    "all_data[\"AllSF-2\"] = all_data[\"AllSF\"] ** 2\n",
    "all_data[\"AllSF-3\"] = all_data[\"AllSF\"] ** 3\n",
    "all_data[\"AllSF-Sq\"] = np.sqrt(all_data[\"AllSF\"])\n",
    "all_data[\"AllFlrsSF-2\"] = all_data[\"AllFlrsSF\"] ** 2\n",
    "all_data[\"AllFlrsSF-3\"] = all_data[\"AllFlrsSF\"] ** 3\n",
    "all_data[\"AllFlrsSF-Sq\"] = np.sqrt(all_data[\"AllFlrsSF\"])\n",
    "all_data[\"GrLivArea-2\"] = all_data[\"GrLivArea\"] ** 2\n",
    "all_data[\"GrLivArea-3\"] = all_data[\"GrLivArea\"] ** 3\n",
    "all_data[\"GrLivArea-Sq\"] = np.sqrt(all_data[\"GrLivArea\"])\n",
    "all_data[\"SimplOverallQual-s2\"] = all_data[\"SimplOverallQual\"] ** 2\n",
    "all_data[\"SimplOverallQual-s3\"] = all_data[\"SimplOverallQual\"] ** 3\n",
    "all_data[\"SimplOverallQual-Sq\"] = np.sqrt(all_data[\"SimplOverallQual\"])\n",
    "all_data[\"ExterQual-2\"] = all_data[\"ExterQual\"] ** 2\n",
    "all_data[\"ExterQual-3\"] = all_data[\"ExterQual\"] ** 3\n",
    "all_data[\"ExterQual-Sq\"] = np.sqrt(all_data[\"ExterQual\"])\n",
    "all_data[\"GarageCars-2\"] = all_data[\"GarageCars\"] ** 2\n",
    "all_data[\"GarageCars-3\"] = all_data[\"GarageCars\"] ** 3\n",
    "all_data[\"GarageCars-Sq\"] = np.sqrt(all_data[\"GarageCars\"])\n",
    "all_data[\"TotalBath-2\"] = all_data[\"TotalBath\"] ** 2\n",
    "all_data[\"TotalBath-3\"] = all_data[\"TotalBath\"] ** 3\n",
    "all_data[\"TotalBath-Sq\"] = np.sqrt(all_data[\"TotalBath\"])\n",
    "all_data[\"KitchenQual-2\"] = all_data[\"KitchenQual\"] ** 2\n",
    "all_data[\"KitchenQual-3\"] = all_data[\"KitchenQual\"] ** 3\n",
    "all_data[\"KitchenQual-Sq\"] = np.sqrt(all_data[\"KitchenQual\"])\n",
    "all_data[\"GarageScore-2\"] = all_data[\"GarageScore\"] ** 2\n",
    "all_data[\"GarageScore-3\"] = all_data[\"GarageScore\"] ** 3\n",
    "all_data[\"GarageScore-Sq\"] = np.sqrt(all_data[\"GarageScore\"])"
   ]
  },
  {
   "cell_type": "code",
   "execution_count": 13,
   "metadata": {},
   "outputs": [
    {
     "name": "stdout",
     "output_type": "stream",
     "text": [
      "Numerical features : 115\n",
      "Categorical features : 25\n"
     ]
    }
   ],
   "source": [
    "# Differentiate numerical features (minus the target) and categorical features\n",
    "categorical_features = all_data.select_dtypes(include = [\"object\"]).columns\n",
    "numerical_features = all_data.select_dtypes(exclude = [\"object\"]).columns\n",
    "print(\"Numerical features : \" + str(len(numerical_features)))\n",
    "print(\"Categorical features : \" + str(len(categorical_features)))\n",
    "all_data_num = all_data[numerical_features]\n",
    "all_data_cat = all_data[categorical_features]"
   ]
  },
  {
   "cell_type": "code",
   "execution_count": 14,
   "metadata": {},
   "outputs": [
    {
     "name": "stdout",
     "output_type": "stream",
     "text": [
      "NAs for numerical features in data : 0\n",
      "Remaining NAs for numerical features in data : 0\n"
     ]
    }
   ],
   "source": [
    "# Handle remaining missing values for numerical features by using median as replacement\n",
    "print(\"NAs for numerical features in data : \" + str(all_data_num.isnull().values.sum()))\n",
    "all_data_num = all_data_num.fillna(all_data_num.median())\n",
    "print(\"Remaining NAs for numerical features in data : \" + str(all_data_num.isnull().values.sum()))"
   ]
  },
  {
   "cell_type": "code",
   "execution_count": 15,
   "metadata": {},
   "outputs": [
    {
     "name": "stdout",
     "output_type": "stream",
     "text": [
      "70 skewed numerical features to log transform\n"
     ]
    }
   ],
   "source": [
    "# Log transform of the skewed numerical features to lessen impact of outliers\n",
    "# Inspired by Alexandru Papiu's script : https://www.kaggle.com/apapiu/house-prices-advanced-regression-techniques/regularized-linear-models\n",
    "# As a general rule of thumb, a skewness with an absolute value > 0.5 is considered at least moderately skewed\n",
    "skewness = all_data_num.apply(lambda x: skew(x))\n",
    "skewness = skewness[abs(skewness) > 0.75]\n",
    "print(str(skewness.shape[0]) + \" skewed numerical features to log transform\")\n",
    "skewed_features = skewness.index\n",
    "all_data_num[skewed_features] = np.log1p(all_data_num[skewed_features])"
   ]
  },
  {
   "cell_type": "code",
   "execution_count": 16,
   "metadata": {},
   "outputs": [
    {
     "name": "stdout",
     "output_type": "stream",
     "text": [
      "NAs for categorical features in data : 0\n",
      "Remaining NAs for categorical features in data : 0\n"
     ]
    }
   ],
   "source": [
    "# Create dummy features for categorical values via one-hot encoding\n",
    "print(\"NAs for categorical features in data : \" + str(all_data_cat.isnull().values.sum()))\n",
    "all_data_cat = pd.get_dummies(all_data_cat)\n",
    "print(\"Remaining NAs for categorical features in data : \" + str(all_data_cat.isnull().values.sum()))"
   ]
  },
  {
   "cell_type": "code",
   "execution_count": 17,
   "metadata": {},
   "outputs": [
    {
     "name": "stdout",
     "output_type": "stream",
     "text": [
      "New number of features : 408\n"
     ]
    }
   ],
   "source": [
    "# Join categorical and numerical features\n",
    "all_data = pd.concat([all_data_num, all_data_cat], axis = 1)\n",
    "print(\"New number of features : \" + str(all_data.shape[1]))"
   ]
  },
  {
   "cell_type": "code",
   "execution_count": 18,
   "metadata": {},
   "outputs": [
    {
     "name": "stdout",
     "output_type": "stream",
     "text": [
      "LotFrontage             0.000\n",
      "LotArea                 8.854\n",
      "Street                  1.099\n",
      "LotShape                1.386\n",
      "Utilities               1.609\n",
      "LandSlope               1.386\n",
      "OverallQual             5.000\n",
      "OverallCond             8.000\n",
      "YearBuilt            1978.000\n",
      "YearRemod/Add        2005.000\n",
      "MasVnrArea              4.511\n",
      "ExterQual               1.609\n",
      "ExterCond               1.609\n",
      "BsmtQual                1.386\n",
      "BsmtCond                1.386\n",
      "BsmtExposure            0.000\n",
      "BsmtFinType1            5.000\n",
      "BsmtFinSF1            646.000\n",
      "BsmtFinType2            0.693\n",
      "BsmtFinSF2              0.000\n",
      "BsmtUnfSF               5.389\n",
      "TotalBsmtSF           864.000\n",
      "HeatingQC               5.000\n",
      "1stFlrSF                6.763\n",
      "2ndFlrSF                0.000\n",
      "LowQualFinSF            0.000\n",
      "GrLivArea               6.763\n",
      "BsmtFullBath            1.000\n",
      "BsmtHalfBath            0.000\n",
      "FullBath                1.000\n",
      "                       ...   \n",
      "GarageYrBlt_2007.0      0.000\n",
      "GarageYrBlt_2008.0      0.000\n",
      "GarageYrBlt_2009.0      0.000\n",
      "GarageYrBlt_No          0.000\n",
      "GarageFinish_Fin        0.000\n",
      "GarageFinish_No         0.000\n",
      "GarageFinish_RFn        0.000\n",
      "GarageFinish_Unf        1.000\n",
      "Fence_GdPrv             0.000\n",
      "Fence_GdWo              1.000\n",
      "Fence_MnPrv             0.000\n",
      "Fence_MnWw              0.000\n",
      "Fence_No                0.000\n",
      "MiscFeature_Gar2        0.000\n",
      "MiscFeature_No          1.000\n",
      "MiscFeature_Othr        0.000\n",
      "MiscFeature_Shed        0.000\n",
      "MiscFeature_TenC        0.000\n",
      "MoSold_Apr              0.000\n",
      "MoSold_Aug              0.000\n",
      "MoSold_Dec              0.000\n",
      "MoSold_Feb              0.000\n",
      "MoSold_Jan              0.000\n",
      "MoSold_Jul              1.000\n",
      "MoSold_Jun              0.000\n",
      "MoSold_Mar              0.000\n",
      "MoSold_May              0.000\n",
      "MoSold_Nov              0.000\n",
      "MoSold_Oct              0.000\n",
      "MoSold_Sep              0.000\n",
      "Name: 0, Length: 408, dtype: float64\n"
     ]
    }
   ],
   "source": [
    "print(all_data.iloc[0,:])"
   ]
  },
  {
   "cell_type": "code",
   "execution_count": 19,
   "metadata": {},
   "outputs": [
    {
     "data": {
      "text/html": [
       "<div>\n",
       "<style>\n",
       "    .dataframe thead tr:only-child th {\n",
       "        text-align: right;\n",
       "    }\n",
       "\n",
       "    .dataframe thead th {\n",
       "        text-align: left;\n",
       "    }\n",
       "\n",
       "    .dataframe tbody tr th {\n",
       "        vertical-align: top;\n",
       "    }\n",
       "</style>\n",
       "<table border=\"1\" class=\"dataframe\">\n",
       "  <thead>\n",
       "    <tr style=\"text-align: right;\">\n",
       "      <th></th>\n",
       "      <th>MSSubClass_SC120</th>\n",
       "      <th>MSSubClass_SC150</th>\n",
       "      <th>MSSubClass_SC160</th>\n",
       "      <th>MSSubClass_SC180</th>\n",
       "      <th>MSSubClass_SC190</th>\n",
       "      <th>MSSubClass_SC20</th>\n",
       "      <th>MSSubClass_SC30</th>\n",
       "      <th>MSSubClass_SC40</th>\n",
       "      <th>MSSubClass_SC45</th>\n",
       "      <th>MSSubClass_SC50</th>\n",
       "      <th>...</th>\n",
       "      <th>MoSold_Dec</th>\n",
       "      <th>MoSold_Feb</th>\n",
       "      <th>MoSold_Jan</th>\n",
       "      <th>MoSold_Jul</th>\n",
       "      <th>MoSold_Jun</th>\n",
       "      <th>MoSold_Mar</th>\n",
       "      <th>MoSold_May</th>\n",
       "      <th>MoSold_Nov</th>\n",
       "      <th>MoSold_Oct</th>\n",
       "      <th>MoSold_Sep</th>\n",
       "    </tr>\n",
       "  </thead>\n",
       "  <tbody>\n",
       "    <tr>\n",
       "      <th>0</th>\n",
       "      <td>0</td>\n",
       "      <td>0</td>\n",
       "      <td>0</td>\n",
       "      <td>0</td>\n",
       "      <td>0</td>\n",
       "      <td>1</td>\n",
       "      <td>0</td>\n",
       "      <td>0</td>\n",
       "      <td>0</td>\n",
       "      <td>0</td>\n",
       "      <td>...</td>\n",
       "      <td>0</td>\n",
       "      <td>0</td>\n",
       "      <td>0</td>\n",
       "      <td>1</td>\n",
       "      <td>0</td>\n",
       "      <td>0</td>\n",
       "      <td>0</td>\n",
       "      <td>0</td>\n",
       "      <td>0</td>\n",
       "      <td>0</td>\n",
       "    </tr>\n",
       "    <tr>\n",
       "      <th>1</th>\n",
       "      <td>0</td>\n",
       "      <td>0</td>\n",
       "      <td>0</td>\n",
       "      <td>0</td>\n",
       "      <td>0</td>\n",
       "      <td>1</td>\n",
       "      <td>0</td>\n",
       "      <td>0</td>\n",
       "      <td>0</td>\n",
       "      <td>0</td>\n",
       "      <td>...</td>\n",
       "      <td>0</td>\n",
       "      <td>0</td>\n",
       "      <td>0</td>\n",
       "      <td>0</td>\n",
       "      <td>1</td>\n",
       "      <td>0</td>\n",
       "      <td>0</td>\n",
       "      <td>0</td>\n",
       "      <td>0</td>\n",
       "      <td>0</td>\n",
       "    </tr>\n",
       "    <tr>\n",
       "      <th>2</th>\n",
       "      <td>0</td>\n",
       "      <td>0</td>\n",
       "      <td>0</td>\n",
       "      <td>0</td>\n",
       "      <td>0</td>\n",
       "      <td>0</td>\n",
       "      <td>0</td>\n",
       "      <td>0</td>\n",
       "      <td>0</td>\n",
       "      <td>0</td>\n",
       "      <td>...</td>\n",
       "      <td>0</td>\n",
       "      <td>1</td>\n",
       "      <td>0</td>\n",
       "      <td>0</td>\n",
       "      <td>0</td>\n",
       "      <td>0</td>\n",
       "      <td>0</td>\n",
       "      <td>0</td>\n",
       "      <td>0</td>\n",
       "      <td>0</td>\n",
       "    </tr>\n",
       "    <tr>\n",
       "      <th>3</th>\n",
       "      <td>0</td>\n",
       "      <td>0</td>\n",
       "      <td>1</td>\n",
       "      <td>0</td>\n",
       "      <td>0</td>\n",
       "      <td>0</td>\n",
       "      <td>0</td>\n",
       "      <td>0</td>\n",
       "      <td>0</td>\n",
       "      <td>0</td>\n",
       "      <td>...</td>\n",
       "      <td>0</td>\n",
       "      <td>0</td>\n",
       "      <td>0</td>\n",
       "      <td>0</td>\n",
       "      <td>1</td>\n",
       "      <td>0</td>\n",
       "      <td>0</td>\n",
       "      <td>0</td>\n",
       "      <td>0</td>\n",
       "      <td>0</td>\n",
       "    </tr>\n",
       "    <tr>\n",
       "      <th>4</th>\n",
       "      <td>0</td>\n",
       "      <td>0</td>\n",
       "      <td>0</td>\n",
       "      <td>0</td>\n",
       "      <td>0</td>\n",
       "      <td>0</td>\n",
       "      <td>0</td>\n",
       "      <td>0</td>\n",
       "      <td>0</td>\n",
       "      <td>0</td>\n",
       "      <td>...</td>\n",
       "      <td>0</td>\n",
       "      <td>0</td>\n",
       "      <td>0</td>\n",
       "      <td>1</td>\n",
       "      <td>0</td>\n",
       "      <td>0</td>\n",
       "      <td>0</td>\n",
       "      <td>0</td>\n",
       "      <td>0</td>\n",
       "      <td>0</td>\n",
       "    </tr>\n",
       "  </tbody>\n",
       "</table>\n",
       "<p>5 rows × 293 columns</p>\n",
       "</div>"
      ],
      "text/plain": [
       "   MSSubClass_SC120  MSSubClass_SC150  MSSubClass_SC160  MSSubClass_SC180  \\\n",
       "0                 0                 0                 0                 0   \n",
       "1                 0                 0                 0                 0   \n",
       "2                 0                 0                 0                 0   \n",
       "3                 0                 0                 1                 0   \n",
       "4                 0                 0                 0                 0   \n",
       "\n",
       "   MSSubClass_SC190  MSSubClass_SC20  MSSubClass_SC30  MSSubClass_SC40  \\\n",
       "0                 0                1                0                0   \n",
       "1                 0                1                0                0   \n",
       "2                 0                0                0                0   \n",
       "3                 0                0                0                0   \n",
       "4                 0                0                0                0   \n",
       "\n",
       "   MSSubClass_SC45  MSSubClass_SC50     ...      MoSold_Dec  MoSold_Feb  \\\n",
       "0                0                0     ...               0           0   \n",
       "1                0                0     ...               0           0   \n",
       "2                0                0     ...               0           1   \n",
       "3                0                0     ...               0           0   \n",
       "4                0                0     ...               0           0   \n",
       "\n",
       "   MoSold_Jan  MoSold_Jul  MoSold_Jun  MoSold_Mar  MoSold_May  MoSold_Nov  \\\n",
       "0           0           1           0           0           0           0   \n",
       "1           0           0           1           0           0           0   \n",
       "2           0           0           0           0           0           0   \n",
       "3           0           0           1           0           0           0   \n",
       "4           0           1           0           0           0           0   \n",
       "\n",
       "   MoSold_Oct  MoSold_Sep  \n",
       "0           0           0  \n",
       "1           0           0  \n",
       "2           0           0  \n",
       "3           0           0  \n",
       "4           0           0  \n",
       "\n",
       "[5 rows x 293 columns]"
      ]
     },
     "execution_count": 19,
     "metadata": {},
     "output_type": "execute_result"
    }
   ],
   "source": [
    "all_data_cat.head()"
   ]
  },
  {
   "cell_type": "markdown",
   "metadata": {},
   "source": [
    "* The reason why we have so many is because of the dummy variables you can see above. Remember there needs to be K-1 variables created"
   ]
  },
  {
   "cell_type": "code",
   "execution_count": 20,
   "metadata": {
    "collapsed": true
   },
   "outputs": [],
   "source": [
    "# Split the processed data again into the training and test data\n",
    "X_train = all_data.iloc[0:804,:]\n",
    "X_test = all_data.iloc[804::,:]"
   ]
  },
  {
   "cell_type": "code",
   "execution_count": 21,
   "metadata": {},
   "outputs": [
    {
     "data": {
      "text/html": [
       "<div>\n",
       "<style>\n",
       "    .dataframe thead tr:only-child th {\n",
       "        text-align: right;\n",
       "    }\n",
       "\n",
       "    .dataframe thead th {\n",
       "        text-align: left;\n",
       "    }\n",
       "\n",
       "    .dataframe tbody tr th {\n",
       "        vertical-align: top;\n",
       "    }\n",
       "</style>\n",
       "<table border=\"1\" class=\"dataframe\">\n",
       "  <thead>\n",
       "    <tr style=\"text-align: right;\">\n",
       "      <th></th>\n",
       "      <th>LotFrontage</th>\n",
       "      <th>LotArea</th>\n",
       "      <th>Street</th>\n",
       "      <th>LotShape</th>\n",
       "      <th>Utilities</th>\n",
       "      <th>LandSlope</th>\n",
       "      <th>OverallQual</th>\n",
       "      <th>OverallCond</th>\n",
       "      <th>YearBuilt</th>\n",
       "      <th>YearRemod/Add</th>\n",
       "      <th>...</th>\n",
       "      <th>MoSold_Dec</th>\n",
       "      <th>MoSold_Feb</th>\n",
       "      <th>MoSold_Jan</th>\n",
       "      <th>MoSold_Jul</th>\n",
       "      <th>MoSold_Jun</th>\n",
       "      <th>MoSold_Mar</th>\n",
       "      <th>MoSold_May</th>\n",
       "      <th>MoSold_Nov</th>\n",
       "      <th>MoSold_Oct</th>\n",
       "      <th>MoSold_Sep</th>\n",
       "    </tr>\n",
       "  </thead>\n",
       "  <tbody>\n",
       "    <tr>\n",
       "      <th>794</th>\n",
       "      <td>0.000</td>\n",
       "      <td>9.421</td>\n",
       "      <td>1.099</td>\n",
       "      <td>1.386</td>\n",
       "      <td>1.609</td>\n",
       "      <td>1.386</td>\n",
       "      <td>4</td>\n",
       "      <td>5</td>\n",
       "      <td>1940</td>\n",
       "      <td>1950</td>\n",
       "      <td>...</td>\n",
       "      <td>0</td>\n",
       "      <td>0</td>\n",
       "      <td>0</td>\n",
       "      <td>0</td>\n",
       "      <td>0</td>\n",
       "      <td>1</td>\n",
       "      <td>0</td>\n",
       "      <td>0</td>\n",
       "      <td>0</td>\n",
       "      <td>0</td>\n",
       "    </tr>\n",
       "    <tr>\n",
       "      <th>795</th>\n",
       "      <td>116.000</td>\n",
       "      <td>9.511</td>\n",
       "      <td>1.099</td>\n",
       "      <td>1.386</td>\n",
       "      <td>1.609</td>\n",
       "      <td>1.386</td>\n",
       "      <td>8</td>\n",
       "      <td>5</td>\n",
       "      <td>2006</td>\n",
       "      <td>2006</td>\n",
       "      <td>...</td>\n",
       "      <td>0</td>\n",
       "      <td>0</td>\n",
       "      <td>0</td>\n",
       "      <td>0</td>\n",
       "      <td>1</td>\n",
       "      <td>0</td>\n",
       "      <td>0</td>\n",
       "      <td>0</td>\n",
       "      <td>0</td>\n",
       "      <td>0</td>\n",
       "    </tr>\n",
       "    <tr>\n",
       "      <th>796</th>\n",
       "      <td>70.000</td>\n",
       "      <td>8.854</td>\n",
       "      <td>1.099</td>\n",
       "      <td>1.609</td>\n",
       "      <td>1.609</td>\n",
       "      <td>1.386</td>\n",
       "      <td>7</td>\n",
       "      <td>5</td>\n",
       "      <td>2003</td>\n",
       "      <td>2003</td>\n",
       "      <td>...</td>\n",
       "      <td>0</td>\n",
       "      <td>0</td>\n",
       "      <td>0</td>\n",
       "      <td>0</td>\n",
       "      <td>1</td>\n",
       "      <td>0</td>\n",
       "      <td>0</td>\n",
       "      <td>0</td>\n",
       "      <td>0</td>\n",
       "      <td>0</td>\n",
       "    </tr>\n",
       "    <tr>\n",
       "      <th>797</th>\n",
       "      <td>0.000</td>\n",
       "      <td>9.524</td>\n",
       "      <td>1.099</td>\n",
       "      <td>1.386</td>\n",
       "      <td>1.609</td>\n",
       "      <td>1.386</td>\n",
       "      <td>3</td>\n",
       "      <td>5</td>\n",
       "      <td>1955</td>\n",
       "      <td>1955</td>\n",
       "      <td>...</td>\n",
       "      <td>0</td>\n",
       "      <td>0</td>\n",
       "      <td>0</td>\n",
       "      <td>0</td>\n",
       "      <td>1</td>\n",
       "      <td>0</td>\n",
       "      <td>0</td>\n",
       "      <td>0</td>\n",
       "      <td>0</td>\n",
       "      <td>0</td>\n",
       "    </tr>\n",
       "    <tr>\n",
       "      <th>798</th>\n",
       "      <td>75.000</td>\n",
       "      <td>9.434</td>\n",
       "      <td>1.099</td>\n",
       "      <td>1.386</td>\n",
       "      <td>1.609</td>\n",
       "      <td>1.386</td>\n",
       "      <td>6</td>\n",
       "      <td>7</td>\n",
       "      <td>1940</td>\n",
       "      <td>1985</td>\n",
       "      <td>...</td>\n",
       "      <td>0</td>\n",
       "      <td>0</td>\n",
       "      <td>0</td>\n",
       "      <td>1</td>\n",
       "      <td>0</td>\n",
       "      <td>0</td>\n",
       "      <td>0</td>\n",
       "      <td>0</td>\n",
       "      <td>0</td>\n",
       "      <td>0</td>\n",
       "    </tr>\n",
       "    <tr>\n",
       "      <th>799</th>\n",
       "      <td>38.000</td>\n",
       "      <td>9.613</td>\n",
       "      <td>1.099</td>\n",
       "      <td>1.099</td>\n",
       "      <td>1.609</td>\n",
       "      <td>1.386</td>\n",
       "      <td>8</td>\n",
       "      <td>5</td>\n",
       "      <td>1996</td>\n",
       "      <td>1996</td>\n",
       "      <td>...</td>\n",
       "      <td>1</td>\n",
       "      <td>0</td>\n",
       "      <td>0</td>\n",
       "      <td>0</td>\n",
       "      <td>0</td>\n",
       "      <td>0</td>\n",
       "      <td>0</td>\n",
       "      <td>0</td>\n",
       "      <td>0</td>\n",
       "      <td>0</td>\n",
       "    </tr>\n",
       "    <tr>\n",
       "      <th>800</th>\n",
       "      <td>100.000</td>\n",
       "      <td>9.393</td>\n",
       "      <td>1.099</td>\n",
       "      <td>1.609</td>\n",
       "      <td>1.609</td>\n",
       "      <td>1.386</td>\n",
       "      <td>5</td>\n",
       "      <td>7</td>\n",
       "      <td>1948</td>\n",
       "      <td>2005</td>\n",
       "      <td>...</td>\n",
       "      <td>0</td>\n",
       "      <td>0</td>\n",
       "      <td>0</td>\n",
       "      <td>0</td>\n",
       "      <td>0</td>\n",
       "      <td>0</td>\n",
       "      <td>1</td>\n",
       "      <td>0</td>\n",
       "      <td>0</td>\n",
       "      <td>0</td>\n",
       "    </tr>\n",
       "    <tr>\n",
       "      <th>801</th>\n",
       "      <td>0.000</td>\n",
       "      <td>8.956</td>\n",
       "      <td>1.099</td>\n",
       "      <td>1.386</td>\n",
       "      <td>1.609</td>\n",
       "      <td>1.386</td>\n",
       "      <td>7</td>\n",
       "      <td>5</td>\n",
       "      <td>2000</td>\n",
       "      <td>2000</td>\n",
       "      <td>...</td>\n",
       "      <td>0</td>\n",
       "      <td>0</td>\n",
       "      <td>0</td>\n",
       "      <td>0</td>\n",
       "      <td>0</td>\n",
       "      <td>0</td>\n",
       "      <td>0</td>\n",
       "      <td>0</td>\n",
       "      <td>0</td>\n",
       "      <td>0</td>\n",
       "    </tr>\n",
       "    <tr>\n",
       "      <th>802</th>\n",
       "      <td>0.000</td>\n",
       "      <td>9.350</td>\n",
       "      <td>1.099</td>\n",
       "      <td>1.386</td>\n",
       "      <td>1.609</td>\n",
       "      <td>1.386</td>\n",
       "      <td>4</td>\n",
       "      <td>3</td>\n",
       "      <td>1957</td>\n",
       "      <td>1957</td>\n",
       "      <td>...</td>\n",
       "      <td>0</td>\n",
       "      <td>0</td>\n",
       "      <td>1</td>\n",
       "      <td>0</td>\n",
       "      <td>0</td>\n",
       "      <td>0</td>\n",
       "      <td>0</td>\n",
       "      <td>0</td>\n",
       "      <td>0</td>\n",
       "      <td>0</td>\n",
       "    </tr>\n",
       "    <tr>\n",
       "      <th>803</th>\n",
       "      <td>34.000</td>\n",
       "      <td>8.081</td>\n",
       "      <td>1.099</td>\n",
       "      <td>1.609</td>\n",
       "      <td>1.609</td>\n",
       "      <td>1.386</td>\n",
       "      <td>6</td>\n",
       "      <td>5</td>\n",
       "      <td>1999</td>\n",
       "      <td>1999</td>\n",
       "      <td>...</td>\n",
       "      <td>0</td>\n",
       "      <td>0</td>\n",
       "      <td>0</td>\n",
       "      <td>0</td>\n",
       "      <td>1</td>\n",
       "      <td>0</td>\n",
       "      <td>0</td>\n",
       "      <td>0</td>\n",
       "      <td>0</td>\n",
       "      <td>0</td>\n",
       "    </tr>\n",
       "  </tbody>\n",
       "</table>\n",
       "<p>10 rows × 408 columns</p>\n",
       "</div>"
      ],
      "text/plain": [
       "     LotFrontage  LotArea  Street  LotShape  Utilities  LandSlope  \\\n",
       "794        0.000    9.421   1.099     1.386      1.609      1.386   \n",
       "795      116.000    9.511   1.099     1.386      1.609      1.386   \n",
       "796       70.000    8.854   1.099     1.609      1.609      1.386   \n",
       "797        0.000    9.524   1.099     1.386      1.609      1.386   \n",
       "798       75.000    9.434   1.099     1.386      1.609      1.386   \n",
       "799       38.000    9.613   1.099     1.099      1.609      1.386   \n",
       "800      100.000    9.393   1.099     1.609      1.609      1.386   \n",
       "801        0.000    8.956   1.099     1.386      1.609      1.386   \n",
       "802        0.000    9.350   1.099     1.386      1.609      1.386   \n",
       "803       34.000    8.081   1.099     1.609      1.609      1.386   \n",
       "\n",
       "     OverallQual  OverallCond  YearBuilt  YearRemod/Add     ...      \\\n",
       "794            4            5       1940           1950     ...       \n",
       "795            8            5       2006           2006     ...       \n",
       "796            7            5       2003           2003     ...       \n",
       "797            3            5       1955           1955     ...       \n",
       "798            6            7       1940           1985     ...       \n",
       "799            8            5       1996           1996     ...       \n",
       "800            5            7       1948           2005     ...       \n",
       "801            7            5       2000           2000     ...       \n",
       "802            4            3       1957           1957     ...       \n",
       "803            6            5       1999           1999     ...       \n",
       "\n",
       "     MoSold_Dec  MoSold_Feb  MoSold_Jan  MoSold_Jul  MoSold_Jun  MoSold_Mar  \\\n",
       "794           0           0           0           0           0           1   \n",
       "795           0           0           0           0           1           0   \n",
       "796           0           0           0           0           1           0   \n",
       "797           0           0           0           0           1           0   \n",
       "798           0           0           0           1           0           0   \n",
       "799           1           0           0           0           0           0   \n",
       "800           0           0           0           0           0           0   \n",
       "801           0           0           0           0           0           0   \n",
       "802           0           0           1           0           0           0   \n",
       "803           0           0           0           0           1           0   \n",
       "\n",
       "     MoSold_May  MoSold_Nov  MoSold_Oct  MoSold_Sep  \n",
       "794           0           0           0           0  \n",
       "795           0           0           0           0  \n",
       "796           0           0           0           0  \n",
       "797           0           0           0           0  \n",
       "798           0           0           0           0  \n",
       "799           0           0           0           0  \n",
       "800           1           0           0           0  \n",
       "801           0           0           0           0  \n",
       "802           0           0           0           0  \n",
       "803           0           0           0           0  \n",
       "\n",
       "[10 rows x 408 columns]"
      ]
     },
     "execution_count": 21,
     "metadata": {},
     "output_type": "execute_result"
    }
   ],
   "source": [
    "# Check to see if sliced correctly\n",
    "X_train.tail(10)"
   ]
  },
  {
   "cell_type": "markdown",
   "metadata": {},
   "source": [
    "* \"Standardization cannot be done before the partitioning, as we don't want to fit the StandardScaler on some observations that will later be used in the test set.\""
   ]
  },
  {
   "cell_type": "code",
   "execution_count": 22,
   "metadata": {},
   "outputs": [
    {
     "name": "stdout",
     "output_type": "stream",
     "text": [
      "X_train : (562, 408)\n",
      "X_validate : (242, 408)\n",
      "y_train : (562,)\n",
      "y_validate : (242,)\n"
     ]
    }
   ],
   "source": [
    "# Partition the dataset in train + validation sets\n",
    "# Partition the dataset in train + validation sets\n",
    "X_train, X_validate, y_train, y_validate = train_test_split(X_train, y_train, test_size = 0.3, random_state = 1)\n",
    "print(\"X_train : \" + str(X_train.shape))\n",
    "print(\"X_validate : \" + str(X_validate.shape))\n",
    "print(\"y_train : \" + str(y_train.shape))\n",
    "print(\"y_validate : \" + str(y_validate.shape))"
   ]
  },
  {
   "cell_type": "markdown",
   "metadata": {},
   "source": [
    "#### Standardisation\n",
    "The regularisation and dimension reduction methods require us the standardise the predictors by substracting the mean and scaling each of them to have unit standard deviation. We need to apply the same transformations to the predictors in the test data, where the mean and variance are based on the training data only."
   ]
  },
  {
   "cell_type": "code",
   "execution_count": 23,
   "metadata": {},
   "outputs": [
    {
     "name": "stderr",
     "output_type": "stream",
     "text": [
      "C:\\Users\\Rhys\\Anaconda3\\lib\\site-packages\\pandas\\core\\frame.py:2450: SettingWithCopyWarning: \n",
      "A value is trying to be set on a copy of a slice from a DataFrame.\n",
      "Try using .loc[row_indexer,col_indexer] = value instead\n",
      "\n",
      "See the caveats in the documentation: http://pandas.pydata.org/pandas-docs/stable/indexing.html#indexing-view-versus-copy\n",
      "  self[k1] = value[k2]\n"
     ]
    }
   ],
   "source": [
    "mu=X_train[numerical_features].mean()\n",
    "sigma=X_train[numerical_features].std()\n",
    "\n",
    "X_train[numerical_features]=(X_train[numerical_features]-mu)/sigma\n",
    "X_validate[numerical_features]=(X_validate[numerical_features]-mu)/sigma\n",
    "X_test[numerical_features]=(X_test[numerical_features]-mu)/sigma"
   ]
  },
  {
   "cell_type": "code",
   "execution_count": 24,
   "metadata": {
    "collapsed": true
   },
   "outputs": [],
   "source": [
    "# Standardize numerical features in training data\n",
    "#stdSc = StandardScaler()\n",
    "#X_train.loc[:, numerical_features] = stdSc.fit_transform(X_train.loc[:, numerical_features])\n",
    "#X_validate.loc[:, numerical_features] = stdSc.fit_transform(X_train.loc[:, numerical_features],X_validate[numerical_features])\n",
    "#X_test.loc[:, numerical_features] = stdSc.transform(X_train.loc[:, numerical_features],X_test[numerical_features])"
   ]
  },
  {
   "cell_type": "markdown",
   "metadata": {},
   "source": [
    "## Modelling"
   ]
  },
  {
   "cell_type": "code",
   "execution_count": 25,
   "metadata": {
    "collapsed": true
   },
   "outputs": [],
   "source": [
    "# Import models from scikit learn module\n",
    "from sklearn.linear_model import Ridge, RidgeCV, ElasticNet, LassoCV, LassoLarsCV\n",
    "from sklearn.model_selection import cross_val_score\n",
    "from sklearn.metrics import mean_absolute_error"
   ]
  },
  {
   "cell_type": "code",
   "execution_count": 26,
   "metadata": {
    "collapsed": true
   },
   "outputs": [],
   "source": [
    "def rmse_cv_train(model):\n",
    "    rmse= np.sqrt(-cross_val_score(model, X_train, y_train, scoring=\"neg_mean_squared_error\", cv = 5))\n",
    "    return(rmse)"
   ]
  },
  {
   "cell_type": "code",
   "execution_count": 27,
   "metadata": {
    "collapsed": true
   },
   "outputs": [],
   "source": [
    "def rmse_cv_validate(model):\n",
    "    rmse= np.sqrt(-cross_val_score(model, X_validate, y_validate, scoring=\"neg_mean_squared_error\", cv = 5))\n",
    "    return(rmse)"
   ]
  },
  {
   "cell_type": "code",
   "execution_count": 28,
   "metadata": {
    "collapsed": true
   },
   "outputs": [],
   "source": [
    "def mae_cv_train(model):\n",
    "    mae= -cross_val_score(model, X_train, y_train, scoring=\"neg_mean_absolute_error\", cv = 5)\n",
    "    return(mae)"
   ]
  },
  {
   "cell_type": "markdown",
   "metadata": {},
   "source": [
    "### Lasso"
   ]
  },
  {
   "cell_type": "code",
   "execution_count": 33,
   "metadata": {},
   "outputs": [
    {
     "name": "stderr",
     "output_type": "stream",
     "text": [
      "C:\\Users\\Rhys\\Anaconda3\\lib\\site-packages\\sklearn\\linear_model\\coordinate_descent.py:484: ConvergenceWarning: Objective did not converge. You might want to increase the number of iterations. Fitting data with very small alpha may cause precision problems.\n",
      "  ConvergenceWarning)\n"
     ]
    },
    {
     "name": "stdout",
     "output_type": "stream",
     "text": [
      "Best alpha : 0.00066736876355\n"
     ]
    }
   ],
   "source": [
    "# Try different values for alpha in Lasso\n",
    "lasso = LassoCV(cv=5)\n",
    "lasso.fit(X_train, y_train)\n",
    "alpha = lasso.alpha_\n",
    "print(\"Best alpha :\", alpha)"
   ]
  },
  {
   "cell_type": "code",
   "execution_count": 34,
   "metadata": {},
   "outputs": [
    {
     "name": "stdout",
     "output_type": "stream",
     "text": [
      "Try again for more precision with alphas centered around 0.00066736876355\n",
      "Best alpha : 0.000700737201727\n"
     ]
    }
   ],
   "source": [
    "print(\"Try again for more precision with alphas centered around \" + str(alpha))\n",
    "lasso = LassoCV(alphas = [alpha * .6, alpha * .65, alpha * .7, alpha * .75, alpha * .8, \n",
    "                          alpha * .85, alpha * .9, alpha * .95, alpha, alpha * 1.05, \n",
    "                          alpha * 1.1, alpha * 1.15, alpha * 1.25, alpha * 1.3, alpha * 1.35, \n",
    "                          alpha * 1.4], \n",
    "                max_iter = 50000, cv = 5)\n",
    "lasso.fit(X_train, y_train)\n",
    "alpha = lasso.alpha_\n",
    "print(\"Best alpha :\", alpha)"
   ]
  },
  {
   "cell_type": "code",
   "execution_count": 35,
   "metadata": {},
   "outputs": [
    {
     "name": "stdout",
     "output_type": "stream",
     "text": [
      "Lasso RMSE on Training set : 0.0981825096308\n",
      "Lasso RMSE on Validation set : 0.111074287447\n"
     ]
    }
   ],
   "source": [
    "print(\"Lasso RMSE on Training set :\", rmse_cv_train(lasso).mean())\n",
    "y_train_las = lasso.predict(X_train)\n",
    "print(\"Lasso RMSE on Validation set :\", rmse_cv_validate(lasso).mean())\n",
    "y_validate_las = lasso.predict(X_validate)"
   ]
  },
  {
   "cell_type": "code",
   "execution_count": 36,
   "metadata": {},
   "outputs": [
    {
     "name": "stdout",
     "output_type": "stream",
     "text": [
      "Lasso picked 102 features and eliminated the other 306 features\n"
     ]
    },
    {
     "data": {
      "image/png": "[encoded data removed]",
      "text/plain": [
       "<matplotlib.figure.Figure at 0x2605302f358>"
      ]
     },
     "metadata": {},
     "output_type": "display_data"
    }
   ],
   "source": [
    "# Plot important coefficients\n",
    "coefs = pd.Series(lasso.coef_, index = X_train.columns)\n",
    "print(\"Lasso picked \" + str(sum(coefs != 0)) + \" features and eliminated the other \" +  \\\n",
    "      str(sum(coefs == 0)) + \" features\")\n",
    "imp_coefs = pd.concat([coefs.sort_values().head(10),\n",
    "                     coefs.sort_values().tail(10)])\n",
    "imp_coefs.plot(kind = \"barh\")\n",
    "plt.title(\"Coefficients in the Lasso Model\")\n",
    "plt.show()"
   ]
  },
  {
   "cell_type": "code",
   "execution_count": 37,
   "metadata": {},
   "outputs": [
    {
     "name": "stdout",
     "output_type": "stream",
     "text": [
      "9993.16425195\n",
      "10883.6544649\n"
     ]
    }
   ],
   "source": [
    "# Get the predictions from the validation data\n",
    "lasso_preds_train = np.expm1(lasso.predict(X_train))\n",
    "lasso_preds_validate = np.expm1(lasso.predict(X_validate))\n",
    "\n",
    "# Compare to their actual values using MAE\n",
    "y_train_exp = np.expm1(y_train)\n",
    "y_validate_exp = np.expm1(y_validate)\n",
    "\n",
    "# Print MAE scores for training and validations sets\n",
    "print(mean_absolute_error(y_train_exp, lasso_preds_train))\n",
    "print(mean_absolute_error(y_validate_exp, lasso_preds_validate))"
   ]
  },
  {
   "cell_type": "code",
   "execution_count": 38,
   "metadata": {
    "collapsed": true
   },
   "outputs": [],
   "source": [
    "# Get the predictions\n",
    "lasso_preds = np.expm1(lasso.predict(X_test))"
   ]
  },
  {
   "cell_type": "code",
   "execution_count": 39,
   "metadata": {
    "collapsed": true
   },
   "outputs": [],
   "source": [
    "solution = pd.DataFrame({\"id\":test.Id, \"prediction\":lasso_preds})\n",
    "solution.to_csv(\"lasso_170906_attempt7.csv\", index = False)"
   ]
  },
  {
   "cell_type": "code",
   "execution_count": 40,
   "metadata": {},
   "outputs": [
    {
     "data": {
      "text/html": [
       "<div>\n",
       "<table border=\"1\" class=\"dataframe\">\n",
       "  <thead>\n",
       "    <tr style=\"text-align: right;\">\n",
       "      <th></th>\n",
       "      <th>id</th>\n",
       "      <th>prediction</th>\n",
       "    </tr>\n",
       "  </thead>\n",
       "  <tbody>\n",
       "    <tr>\n",
       "      <th>0</th>\n",
       "      <td>1</td>\n",
       "      <td>91521.195</td>\n",
       "    </tr>\n",
       "    <tr>\n",
       "      <th>1</th>\n",
       "      <td>2</td>\n",
       "      <td>173347.380</td>\n",
       "    </tr>\n",
       "    <tr>\n",
       "      <th>2</th>\n",
       "      <td>3</td>\n",
       "      <td>134704.040</td>\n",
       "    </tr>\n",
       "    <tr>\n",
       "      <th>3</th>\n",
       "      <td>4</td>\n",
       "      <td>192092.586</td>\n",
       "    </tr>\n",
       "    <tr>\n",
       "      <th>4</th>\n",
       "      <td>5</td>\n",
       "      <td>149686.281</td>\n",
       "    </tr>\n",
       "  </tbody>\n",
       "</table>\n",
       "</div>"
      ],
      "text/plain": [
       "   id  prediction\n",
       "0   1   91521.195\n",
       "1   2  173347.380\n",
       "2   3  134704.040\n",
       "3   4  192092.586\n",
       "4   5  149686.281"
      ]
     },
     "execution_count": 40,
     "metadata": {},
     "output_type": "execute_result"
    }
   ],
   "source": [
    "solution_data = pd.read_csv(\"lasso_170906_attempt7.csv\")\n",
    "solution_data.head()"
   ]
  },
  {
   "cell_type": "markdown",
   "metadata": {},
   "source": [
    "### Elastic Net"
   ]
  },
  {
   "cell_type": "code",
   "execution_count": 29,
   "metadata": {},
   "outputs": [
    {
     "name": "stdout",
     "output_type": "stream",
     "text": [
      "Best l1_ratio : 0.3\n",
      "Best alpha : 0.003\n",
      "Try again for more precision with l1_ratio centered around 0.3\n",
      "Best l1_ratio : 0.255\n",
      "Best alpha : 0.003\n",
      "Now try again for more precision on alpha, with l1_ratio fixed at 0.255 and alpha centered around 0.003\n",
      "Best l1_ratio : 0.255\n",
      "Best alpha : 0.003\n",
      "ElasticNet RMSE on Training set : 0.0984160789518\n",
      "Wall time: 2min 12s\n"
     ]
    }
   ],
   "source": [
    "%%time\n",
    "elasticNet = ElasticNetCV(l1_ratio = [0.1, 0.3, 0.5, 0.6, 0.7, 0.8, 0.85, 0.9, 0.95, 1],\n",
    "                          alphas = [0.0001, 0.0003, 0.0006, 0.001, 0.003, 0.006, \n",
    "                                    0.01, 0.03, 0.06, 0.1, 0.3, 0.6, 1, 3, 6], \n",
    "                          max_iter = 50000, cv = 10)\n",
    "elasticNet.fit(X_train, y_train)\n",
    "alpha = elasticNet.alpha_\n",
    "ratio = elasticNet.l1_ratio_\n",
    "print(\"Best l1_ratio :\", ratio)\n",
    "print(\"Best alpha :\", alpha )\n",
    "\n",
    "print(\"Try again for more precision with l1_ratio centered around \" + str(ratio))\n",
    "elasticNet = ElasticNetCV(l1_ratio = [ratio * .85, ratio * .9, ratio * .95, ratio, ratio * 1.05, ratio * 1.1, ratio * 1.15],\n",
    "                          alphas = [0.0001, 0.0003, 0.0006, 0.001, 0.003, 0.006, 0.01, 0.03, 0.06, 0.1, 0.3, 0.6, 1, 3, 6], \n",
    "                          max_iter = 50000, cv = 10)\n",
    "elasticNet.fit(X_train, y_train)\n",
    "if (elasticNet.l1_ratio_ > 1):\n",
    "    elasticNet.l1_ratio_ = 1    \n",
    "alpha = elasticNet.alpha_\n",
    "ratio = elasticNet.l1_ratio_\n",
    "print(\"Best l1_ratio :\", ratio)\n",
    "print(\"Best alpha :\", alpha )\n",
    "\n",
    "print(\"Now try again for more precision on alpha, with l1_ratio fixed at \" + str(ratio) + \n",
    "      \" and alpha centered around \" + str(alpha))\n",
    "elasticNet = ElasticNetCV(l1_ratio = ratio,\n",
    "                          alphas = [alpha * .6, alpha * .65, alpha * .7, alpha * .75, alpha * .8, alpha * .85, alpha * .9, \n",
    "                                    alpha * .95, alpha, alpha * 1.05, alpha * 1.1, alpha * 1.15, alpha * 1.25, alpha * 1.3, \n",
    "                                    alpha * 1.35, alpha * 1.4], \n",
    "                          max_iter = 50000, cv = 10)\n",
    "elasticNet.fit(X_train, y_train)\n",
    "if (elasticNet.l1_ratio_ > 1):\n",
    "    elasticNet.l1_ratio_ = 1    \n",
    "alpha = elasticNet.alpha_\n",
    "ratio = elasticNet.l1_ratio_\n",
    "print(\"Best l1_ratio :\", ratio)\n",
    "print(\"Best alpha :\", alpha )\n",
    "\n",
    "print(\"ElasticNet RMSE on Training set :\", rmse_cv_train(elasticNet).mean())"
   ]
  },
  {
   "cell_type": "code",
   "execution_count": 30,
   "metadata": {},
   "outputs": [
    {
     "name": "stdout",
     "output_type": "stream",
     "text": [
      "Elastic Net picked 101 features and eliminated the other 307 features\n"
     ]
    },
    {
     "data": {
      "image/png": "[encoded data removed]",
      "text/plain": [
       "<matplotlib.figure.Figure at 0x1ffd15692b0>"
      ]
     },
     "metadata": {},
     "output_type": "display_data"
    }
   ],
   "source": [
    "# Plot important coefficients\n",
    "coefs = pd.Series(elasticNet.coef_, index = X_train.columns)\n",
    "print(\"Elastic Net picked \" + str(sum(coefs != 0)) + \" features and eliminated the other \" +  \\\n",
    "      str(sum(coefs == 0)) + \" features\")\n",
    "imp_coefs = pd.concat([coefs.sort_values().head(10),\n",
    "                     coefs.sort_values().tail(10)])\n",
    "imp_coefs.plot(kind = \"barh\")\n",
    "plt.title(\"Coefficients in the Elastic Net Model\")\n",
    "plt.show()"
   ]
  },
  {
   "cell_type": "code",
   "execution_count": 31,
   "metadata": {},
   "outputs": [
    {
     "name": "stdout",
     "output_type": "stream",
     "text": [
      "10184.9310967\n",
      "10793.1519292\n"
     ]
    }
   ],
   "source": [
    "# Get the predictions from the validation data\n",
    "elastic_preds_train = np.expm1(elasticNet.predict(X_train))\n",
    "elastic_preds_validate = np.expm1(elasticNet.predict(X_validate))\n",
    "\n",
    "# Compare to their actual values using MAE\n",
    "y_train_exp = np.expm1(y_train)\n",
    "y_validate_exp = np.expm1(y_validate)\n",
    "\n",
    "# Printing\n",
    "print(mean_absolute_error(y_train_exp, elastic_preds_train))\n",
    "print(mean_absolute_error(y_validate_exp, elastic_preds_validate))"
   ]
  },
  {
   "cell_type": "code",
   "execution_count": 32,
   "metadata": {},
   "outputs": [
    {
     "data": {
      "text/html": [
       "<div>\n",
       "<style>\n",
       "    .dataframe thead tr:only-child th {\n",
       "        text-align: right;\n",
       "    }\n",
       "\n",
       "    .dataframe thead th {\n",
       "        text-align: left;\n",
       "    }\n",
       "\n",
       "    .dataframe tbody tr th {\n",
       "        vertical-align: top;\n",
       "    }\n",
       "</style>\n",
       "<table border=\"1\" class=\"dataframe\">\n",
       "  <thead>\n",
       "    <tr style=\"text-align: right;\">\n",
       "      <th></th>\n",
       "      <th>id</th>\n",
       "      <th>prediction</th>\n",
       "    </tr>\n",
       "  </thead>\n",
       "  <tbody>\n",
       "    <tr>\n",
       "      <th>0</th>\n",
       "      <td>1</td>\n",
       "      <td>92352.082</td>\n",
       "    </tr>\n",
       "    <tr>\n",
       "      <th>1</th>\n",
       "      <td>2</td>\n",
       "      <td>171390.425</td>\n",
       "    </tr>\n",
       "    <tr>\n",
       "      <th>2</th>\n",
       "      <td>3</td>\n",
       "      <td>134131.292</td>\n",
       "    </tr>\n",
       "    <tr>\n",
       "      <th>3</th>\n",
       "      <td>4</td>\n",
       "      <td>192948.238</td>\n",
       "    </tr>\n",
       "    <tr>\n",
       "      <th>4</th>\n",
       "      <td>5</td>\n",
       "      <td>149684.136</td>\n",
       "    </tr>\n",
       "  </tbody>\n",
       "</table>\n",
       "</div>"
      ],
      "text/plain": [
       "   id  prediction\n",
       "0   1   92352.082\n",
       "1   2  171390.425\n",
       "2   3  134131.292\n",
       "3   4  192948.238\n",
       "4   5  149684.136"
      ]
     },
     "execution_count": 32,
     "metadata": {},
     "output_type": "execute_result"
    }
   ],
   "source": [
    "# Get the predictions\n",
    "enet_preds = np.expm1(elasticNet.predict(X_test))\n",
    "solution = pd.DataFrame({\"id\":test.Id, \"prediction\":enet_preds})\n",
    "solution.to_csv(\"lasso_170906_attempt8.csv\", index = False)\n",
    "solution_data = pd.read_csv(\"lasso_170906_attempt8.csv\")\n",
    "solution_data.head()"
   ]
  },
  {
   "cell_type": "markdown",
   "metadata": {
    "collapsed": true
   },
   "source": [
    "### Ridge Regression"
   ]
  },
  {
   "cell_type": "code",
   "execution_count": 36,
   "metadata": {},
   "outputs": [
    {
     "name": "stdout",
     "output_type": "stream",
     "text": [
      "Best alpha : 24\n",
      "Try again for more precision with alphas centered around 24\n",
      "Best alpha : 24\n"
     ]
    }
   ],
   "source": [
    "ridge = RidgeCV(alphas = [0.01, 0.03, 0.06, 0.1, 0.3, 0.6, 1, 3, 6, 10, 15, 20, 21, 22, 23, 24, 25, 26, 27, 28, 29, 30, 35, 40, 45, 50, 60], cv=10)\n",
    "ridge.fit(X_train, y_train)\n",
    "alpha = ridge.alpha_\n",
    "print(\"Best alpha :\", alpha)\n",
    "\n",
    "print(\"Try again for more precision with alphas centered around \" + str(alpha))\n",
    "ridge = RidgeCV(alphas = [alpha * .6, alpha * .65, alpha * .7, alpha * .75, alpha * .8, alpha * .85, \n",
    "                          alpha * .9, alpha * .95, alpha, alpha * 1.05, alpha * 1.1, alpha * 1.15,\n",
    "                          alpha * 1.25, alpha * 1.3, alpha * 1.35, alpha * 1.4], \n",
    "                cv = 10)\n",
    "ridge.fit(X_train, y_train)\n",
    "alpha = ridge.alpha_\n",
    "print(\"Best alpha :\", alpha)"
   ]
  },
  {
   "cell_type": "code",
   "execution_count": 37,
   "metadata": {},
   "outputs": [
    {
     "name": "stdout",
     "output_type": "stream",
     "text": [
      "Ridge picked 371 features and eliminated the other 37 features\n"
     ]
    },
    {
     "data": {
      "image/png": "[encoded data removed]",
      "text/plain": [
       "<matplotlib.figure.Figure at 0x1ffd1644048>"
      ]
     },
     "metadata": {},
     "output_type": "display_data"
    }
   ],
   "source": [
    "# Plot important coefficients\n",
    "coefs = pd.Series(ridge.coef_, index = X_train.columns)\n",
    "print(\"Ridge picked \" + str(sum(coefs != 0)) + \" features and eliminated the other \" +  \\\n",
    "      str(sum(coefs == 0)) + \" features\")\n",
    "imp_coefs = pd.concat([coefs.sort_values().head(10),\n",
    "                     coefs.sort_values().tail(10)])\n",
    "imp_coefs.plot(kind = \"barh\")\n",
    "plt.title(\"Coefficients in the Ridge Model\")\n",
    "plt.show()"
   ]
  },
  {
   "cell_type": "code",
   "execution_count": 38,
   "metadata": {},
   "outputs": [
    {
     "name": "stdout",
     "output_type": "stream",
     "text": [
      "9841.61906618\n",
      "11382.6719036\n"
     ]
    }
   ],
   "source": [
    "# Get the predictions from the validation data\n",
    "ridge_preds_train = np.expm1(ridge.predict(X_train))\n",
    "ridge_preds_validate = np.expm1(ridge.predict(X_validate))\n",
    "\n",
    "# Compare to their actual values using MAE\n",
    "y_train_exp = np.expm1(y_train)\n",
    "y_validate_exp = np.expm1(y_validate)\n",
    "\n",
    "# Printing\n",
    "print(mean_absolute_error(y_train_exp, ridge_preds_train))\n",
    "print(mean_absolute_error(y_validate_exp, ridge_preds_validate))"
   ]
  },
  {
   "cell_type": "code",
   "execution_count": 39,
   "metadata": {},
   "outputs": [
    {
     "data": {
      "text/html": [
       "<div>\n",
       "<style>\n",
       "    .dataframe thead tr:only-child th {\n",
       "        text-align: right;\n",
       "    }\n",
       "\n",
       "    .dataframe thead th {\n",
       "        text-align: left;\n",
       "    }\n",
       "\n",
       "    .dataframe tbody tr th {\n",
       "        vertical-align: top;\n",
       "    }\n",
       "</style>\n",
       "<table border=\"1\" class=\"dataframe\">\n",
       "  <thead>\n",
       "    <tr style=\"text-align: right;\">\n",
       "      <th></th>\n",
       "      <th>id</th>\n",
       "      <th>prediction</th>\n",
       "    </tr>\n",
       "  </thead>\n",
       "  <tbody>\n",
       "    <tr>\n",
       "      <th>0</th>\n",
       "      <td>1</td>\n",
       "      <td>95054.477</td>\n",
       "    </tr>\n",
       "    <tr>\n",
       "      <th>1</th>\n",
       "      <td>2</td>\n",
       "      <td>164102.190</td>\n",
       "    </tr>\n",
       "    <tr>\n",
       "      <th>2</th>\n",
       "      <td>3</td>\n",
       "      <td>136937.368</td>\n",
       "    </tr>\n",
       "    <tr>\n",
       "      <th>3</th>\n",
       "      <td>4</td>\n",
       "      <td>191101.036</td>\n",
       "    </tr>\n",
       "    <tr>\n",
       "      <th>4</th>\n",
       "      <td>5</td>\n",
       "      <td>150699.072</td>\n",
       "    </tr>\n",
       "  </tbody>\n",
       "</table>\n",
       "</div>"
      ],
      "text/plain": [
       "   id  prediction\n",
       "0   1   95054.477\n",
       "1   2  164102.190\n",
       "2   3  136937.368\n",
       "3   4  191101.036\n",
       "4   5  150699.072"
      ]
     },
     "execution_count": 39,
     "metadata": {},
     "output_type": "execute_result"
    }
   ],
   "source": [
    "# Get the predictions\n",
    "ridge_preds = np.expm1(ridge.predict(X_test))\n",
    "solution = pd.DataFrame({\"id\":test.Id, \"prediction\":ridge_preds})\n",
    "solution.to_csv(\"lasso_170906_attempt9.csv\", index = False)\n",
    "solution_data = pd.read_csv(\"lasso_170906_attempt9.csv\")\n",
    "solution_data.head()"
   ]
  },
  {
   "cell_type": "code",
   "execution_count": null,
   "metadata": {
    "collapsed": true
   },
   "outputs": [],
   "source": []
  }
 ],
 "metadata": {
  "kernelspec": {
   "display_name": "Python 3",
   "language": "python",
   "name": "python3"
  },
  "language_info": {
   "codemirror_mode": {
    "name": "ipython",
    "version": 3
   },
   "file_extension": ".py",
   "mimetype": "text/x-python",
   "name": "python",
   "nbconvert_exporter": "python",
   "pygments_lexer": "ipython3",
   "version": "3.6.2"
  }
 },
 "nbformat": 4,
 "nbformat_minor": 2
}
